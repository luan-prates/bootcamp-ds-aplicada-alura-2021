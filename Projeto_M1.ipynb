{
  "nbformat": 4,
  "nbformat_minor": 0,
  "metadata": {
    "colab": {
      "name": "Projeto M1.ipynb",
      "provenance": [],
      "collapsed_sections": [],
      "toc_visible": true,
      "mount_file_id": "1Im6MWzAoTzxMjEEuSgenm8o_rmSsPFo4",
      "authorship_tag": "ABX9TyMNdm8/g6LsZUhg8jcn5ul5",
      "include_colab_link": true
    },
    "kernelspec": {
      "name": "python3",
      "display_name": "Python 3"
    }
  },
  "cells": [
    {
      "cell_type": "markdown",
      "metadata": {
        "id": "view-in-github",
        "colab_type": "text"
      },
      "source": [
        "<a href=\"https://colab.research.google.com/github/luan-prates/bootcamp-ds-aplicada-alura-2021/blob/main/Projeto_M1.ipynb\" target=\"_parent\"><img src=\"https://colab.research.google.com/assets/colab-badge.svg\" alt=\"Open In Colab\"/></a>"
      ]
    },
    {
      "cell_type": "markdown",
      "metadata": {
        "id": "IHUTTbJhCveV"
      },
      "source": [
        "# Nova seção"
      ]
    },
    {
      "cell_type": "code",
      "metadata": {
        "id": "RO1kKk07CnDh"
      },
      "source": [
        "import matplotlib.pyplot as plt\n",
        "import matplotlib.ticker as ticker\n",
        "import seaborn as sns\n",
        "import pandas as pd\n",
        "import numpy as np"
      ],
      "execution_count": null,
      "outputs": []
    },
    {
      "cell_type": "markdown",
      "metadata": {
        "id": "LobKbRFqC30S"
      },
      "source": [
        "# Nova seção"
      ]
    },
    {
      "cell_type": "code",
      "metadata": {
        "id": "j3ksCgGIDMgO"
      },
      "source": [
        "df_casos = pd.read_csv('/content/drive/My Drive/_datasets/integrasus.csv', sep=';', encoding='utf-8' , thousands='.', decimal=',',engine='python',error_bad_lines=False)"
      ],
      "execution_count": null,
      "outputs": []
    },
    {
      "cell_type": "code",
      "metadata": {
        "id": "SYkFvR4gDXtS"
      },
      "source": [
        "#df_casos.head()\n",
        "#df_casos.tail()\n",
        "#df_casos.shape\n",
        "#df_casos.columns\n",
        "df_casos.describe()"
      ],
      "execution_count": null,
      "outputs": []
    },
    {
      "cell_type": "code",
      "metadata": {
        "id": "7Q7z9kRyG84G"
      },
      "source": [
        "datas = ['data_nascimento','data_notificacao','data_inicio_sintomas','data_solicitacao_exame', 'data_coleta_exame','data_resultado_exame',\n",
        "         'data_internacao_sivep','data_evolucao_caso_sivep','data_entrada_uti_sivep','data_saida_uti_sivep','data_obito']\n"
      ],
      "execution_count": null,
      "outputs": []
    },
    {
      "cell_type": "code",
      "metadata": {
        "id": "Zf_-6x9Ap1PK"
      },
      "source": [
        "for data in datas:\n",
        "  df_casos[data] = df_casos[data].astype('datetime64', errors = 'ignore')"
      ],
      "execution_count": null,
      "outputs": []
    },
    {
      "cell_type": "code",
      "metadata": {
        "id": "XFaTMTQh6u3_"
      },
      "source": [
        "categorias = ['id_redcap','classificacao_estado_redcap', 'id_esus', 'classificacao_estado_esus', 'classificacao_final_esus',\n",
        "              'evolucao_caso_esus', 'cbo_esus', 'profissional_saude_esus','pais_paciente','estado_paciente', \n",
        "              'municipio_paciente', 'bairro_paciente_geocoder','sexo_paciente','faixa_etaria',\n",
        "              'resultado_final_exame', 'laboratorio_exame', 'tipo_teste_exame', 'requisicao_gal', \n",
        "              'obito_confirmado','local_obito', 'tipo_local_obito', 'id_sivep','classificacao_estado_sivep', 'evolucao_caso_sivep', \n",
        "              'comorbidade_puerpera_sivep', 'comorbidade_cardiovascular_sivep', 'comorbidade_hematologia_sivep','comorbidade_sindrome_down_sivep', \n",
        "              'comorbidade_hepatica_sivep', 'comorbidade_asma_sivep', 'comorbidade_diabetes_sivep','comorbidade_neurologia_sivep', \n",
        "              'comorbidade_pneumopatia_sivep', 'comorbidade_imunodeficiencia_sivep', 'comorbidade_renal_sivep','comorbidade_obesidade_sivep', \n",
        "              'comorbidade_hiv','comorbidade_neoplasias']"
      ],
      "execution_count": null,
      "outputs": []
    },
    {
      "cell_type": "code",
      "metadata": {
        "id": "_kbKgY078Nku"
      },
      "source": [
        "for categoria in categorias:\n",
        "  df_casos[categoria] = df_casos[categoria].astype('category', errors = 'ignore')"
      ],
      "execution_count": null,
      "outputs": []
    },
    {
      "cell_type": "code",
      "metadata": {
        "id": "xj77UUn68lGR"
      },
      "source": [
        "df_casos.dtypes"
      ],
      "execution_count": null,
      "outputs": []
    },
    {
      "cell_type": "markdown",
      "metadata": {
        "id": "QAXkB5Ly6L3s"
      },
      "source": [
        "### slice and dice"
      ]
    },
    {
      "cell_type": "code",
      "metadata": {
        "id": "_ySyojHkITxD"
      },
      "source": [
        "ts = df_casos.groupby(['data_inicio_sintomas']).data_inicio_sintomas.count()\n",
        "ts.plot(figsize=(20,6), title='Casos por data de Inicio de sintomas')"
      ],
      "execution_count": null,
      "outputs": []
    },
    {
      "cell_type": "code",
      "metadata": {
        "id": "P5i6Tw8SgLZj"
      },
      "source": [
        "df_por_semana = df_casos.groupby(df_casos['data_inicio_sintomas'].dt.week).size().reset_index().rename(columns={0: 'Casos'}).set_index('data_inicio_sintomas')\n",
        "df_por_semana.plot(kind='bar', figsize=(20, 6), title='Casos por semana de Inicio de sintomas')"
      ],
      "execution_count": null,
      "outputs": []
    },
    {
      "cell_type": "code",
      "metadata": {
        "id": "eEAROVGY03J_"
      },
      "source": [
        "df_casos_por_mes_e_resultado = df_casos.groupby([df_casos['data_inicio_sintomas'].dt.month, \n",
        "                                                 'resultado_final_exame'])[['id']].count().rename(columns={'id': 'Casos'})\n",
        "ax = df_casos_por_mes_e_resultado.sum(level=1).sort_values('resultado_final_exame',ascending=False).plot(kind='bar', figsize=(20, 6))\n",
        "ax.yaxis.set_major_formatter(ticker.StrMethodFormatter(\"{x:,.2f}\"))\n",
        "plt.grid()#b=True, which='major',color='#666666', linestyle='-')"
      ],
      "execution_count": null,
      "outputs": []
    },
    {
      "cell_type": "code",
      "metadata": {
        "id": "-H-FffA11-Zr"
      },
      "source": [
        "df_casos_positovos = df_casos[(df_casos[\"resultado_final_exame\"] == 'Positivo')]"
      ],
      "execution_count": null,
      "outputs": []
    },
    {
      "cell_type": "code",
      "metadata": {
        "id": "6cZeE-Lo6gzA"
      },
      "source": [
        "df_casos_positovos\n",
        "\n",
        "ts_positovos = df_casos_positovos.groupby(df_casos_positovos['data_inicio_sintomas'].dt.week).data_inicio_sintomas.count()\n",
        "ts_positovos.plot(figsize=(20,6), title='Casos positivos por data de Inicio de sintomas')"
      ],
      "execution_count": null,
      "outputs": []
    },
    {
      "cell_type": "code",
      "metadata": {
        "id": "gk-Zq6FTCmUh"
      },
      "source": [
        "ts_casos_por_municipio_mes_e_resultado = df_casos.groupby(['data_inicio_sintomas', \n",
        "                                                           'resultado_final_exame'])[['id']].count().rename(columns={'id': 'Casos'})\n",
        "df_casos_por_municipio_mes_e_resultado = ts_casos_por_municipio_mes_e_resultado.reset_index()"
      ],
      "execution_count": null,
      "outputs": []
    },
    {
      "cell_type": "code",
      "metadata": {
        "id": "YWfCeuDrEJqI"
      },
      "source": [
        "df_casos_por_municipio_mes_e_resultado.set_index('data_inicio_sintomas', inplace=True)"
      ],
      "execution_count": null,
      "outputs": []
    },
    {
      "cell_type": "code",
      "metadata": {
        "id": "OT8p7dUEG9Ge"
      },
      "source": [
        "#df_casos_por_municipio_mes_e_resultado.T.head()"
      ],
      "execution_count": null,
      "outputs": []
    },
    {
      "cell_type": "code",
      "metadata": {
        "id": "V-cmJYzGIDJ5"
      },
      "source": [
        " from pandas.tools.plotting import andrews_curves\n",
        "\n",
        " andrews_curves(data, 'resultado_final_exame')"
      ],
      "execution_count": null,
      "outputs": []
    },
    {
      "cell_type": "code",
      "metadata": {
        "id": "sPQ3Bh8gEoVG"
      },
      "source": [
        "df_casos_por_municipio_mes_e_resultado.plot(kind='bar',figsize=(22,6), colormap='resultado_final_exame')"
      ],
      "execution_count": null,
      "outputs": []
    }
  ]
}