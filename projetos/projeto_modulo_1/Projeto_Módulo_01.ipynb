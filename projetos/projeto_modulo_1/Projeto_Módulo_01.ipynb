{
 "cells": [
  {
   "cell_type": "markdown",
   "metadata": {
    "id": "E27fQer3E8K9"
   },
   "source": [
    "Olá **Cientista**!\n",
    "\n",
    "Bem vinda e bem vindo ao **mega desafio do Módulo 01**, neste desafio queremos que você aplique tudo que aprendeu no curso, analisando uma outra informação ~~referente a base de dados de [produção hospitalar](http://www2.datasus.gov.br/DATASUS/index.php?area=0202&id=11633&VObj=http://tabnet.datasus.gov.br/cgi/deftohtm.exe?sih/cnv/qi), seja número de internação, óbito, AIH ou taxa de mortalidade.~~ \n",
    "\n",
    "**P.S: Infelizmente o DataSUS está fora do ar por tempo indeterminado, para você não parar seu projeto, adicionamos no [GitHub](https://github.com/alura-cursos/agendamento-hospitalar/tree/main/dados) do curso, duas novas bases para você utilizar neste projeto (COVID-19 e Óbitos).**\n",
    "\n",
    "Uma base é dos **casos de COVID-19 baixadas do projeto [BRASIL.IO](https://brasil.io/dataset/covid19/caso/)**, outra são os números de óbitos registrados no cartório civil desde 1970 retirado do **[Kaggle](https://www.kaggle.com/amandalk/registered-deaths-brazil)**.\n",
    "\n",
    "Vocês podem escolher qualquer uma das duas bases de dados, a de COVID-19 é mais desafiadora e você vai precisar descompactar o arquivo por ser grande e entrar no site do Brasil.IO para entender todas as features presentes (No Brasil.IO tem diversas bases sobre COVID-19, estamos usando a chamada **Casos**). A base de óbito é mais simples e relativamente semelhate a utilizada no curso.\n",
    "\n",
    "Algumas dicas para você mandar bem no desafio final, capriche nas análises, escreva suas conclusões e hipóteses (mesmo que resultado seja inconclusivo) e não esqueça de colocar um resumo dos pontos que julgar mais interessantes do seu projeto.\n",
    "\n",
    "\n",
    "\n",
    "E para que o seu projeto tenha a oportunidade de ser avalido pelo Thiago G. Santos e Átila Iamarino, ao vivo na **live de revisão de projetos** submeta o link compartilhado do seu notebook [neste formulário](https://docs.google.com/forms/d/e/1FAIpQLSd1jemhvdo8sM6e-bgOryyZ2P3YuMO6E_mUQXabyBX_xhuZQQ/viewform?usp=sf_link) até dia 22/11 às 23h59.\n",
    "\n",
    "Para facilitar a vida dos seus instrutores favoritos, no momento da correção, algumas dicas de como estruturar seu projeto:\n",
    "\n",
    "- Como título do seu **Colab** coloque seu nome (Ex: Thiago_Gonçalves.ipynb)\n",
    "- Crie um resumo das suas análises na parte superior do notebook\n",
    "- Informe no resumo os dados que vc vai analisar (Ex: Finaceiros e Internações)\n",
    "\n",
    "Qualquer dúvida não deixe de perguntar no Discord, compatilhe seu projeto nas redes sociais e crie um repositório no github, esse é o início do seu portifólio em Data Science.\n",
    "\n",
    "\n",
    "\n",
    "Fique a vontade para utilizar esse notebook como template projeto.\n",
    "\n"
   ]
  },
  {
   "cell_type": "markdown",
   "metadata": {
    "id": "RshO3GgDFGhB"
   },
   "source": [
    "## Resumo:\n",
    "\n",
    "Faça aqui o resumo das suas analises, destacando os pontos principais do seu projeto"
   ]
  },
  {
   "cell_type": "code",
   "execution_count": null,
   "metadata": {
    "id": "BUHuWTjaFGMV"
   },
   "outputs": [],
   "source": []
  },
  {
   "cell_type": "markdown",
   "metadata": {
    "id": "YJaNprdeFN7n"
   },
   "source": [
    "## Análise dos dados:\n",
    "\n",
    "Inicie aqui o desenvolvimento do seu projeto, não esqueça de adicionar textos curtos e objetivos para que os avaliadores entendam sua linha de raciocínio e as conclusões que você está chegando crie uma narrativa convincente e coerênte aos dados analisados."
   ]
  },
  {
   "cell_type": "markdown",
   "metadata": {
    "id": "zw4S_LkkFNa2"
   },
   "source": [
    "# Casos de Covid-19 no Ceará "
   ]
  },
  {
   "cell_type": "code",
   "execution_count": 1,
   "metadata": {
    "id": "wWHrc23HMW07"
   },
   "outputs": [],
   "source": [
    "import matplotlib.pyplot as plt\n",
    "plt.style.use(\"seaborn-darkgrid\")"
   ]
  },
  {
   "cell_type": "markdown",
   "metadata": {},
   "source": [
    "Baixando arquivo direto da internet no [integraSUS](https://integrasus.saude.ce.gov.br/)"
   ]
  },
  {
   "cell_type": "code",
   "execution_count": 2,
   "metadata": {},
   "outputs": [],
   "source": [
    "import requests\n",
    "\n",
    "url = 'http://download-integrasus.saude.ce.gov.br/casos_covid19'\n",
    "\n",
    "r = requests.get(url)\n",
    "with open('download/casos_covid19.zip', 'wb') as code:\n",
    "    code.write(r.content)"
   ]
  },
  {
   "cell_type": "markdown",
   "metadata": {},
   "source": [
    "Descompactando o arquivo."
   ]
  },
  {
   "cell_type": "code",
   "execution_count": 3,
   "metadata": {},
   "outputs": [],
   "source": [
    "from zipfile import ZipFile\n",
    "\n",
    "z = ZipFile('download/casos_covid19.zip', 'r')\n",
    "z.extractall('dataset')\n",
    "#z.extract('./dataset')\n",
    "z.close()"
   ]
  },
  {
   "cell_type": "markdown",
   "metadata": {},
   "source": [
    "Listando os arquivos extraidos"
   ]
  },
  {
   "cell_type": "code",
   "execution_count": 4,
   "metadata": {},
   "outputs": [
    {
     "data": {
      "text/plain": [
       "['casos_coronavirus_2020_12_02.csv',\n",
       " 'casos_coronavirus_localidade_2020_12_02.csv']"
      ]
     },
     "execution_count": 4,
     "metadata": {},
     "output_type": "execute_result"
    }
   ],
   "source": [
    "import os \n",
    "\n",
    "lista_arquivos = os.listdir('dataset')\n",
    "lista_arquivos"
   ]
  },
  {
   "cell_type": "markdown",
   "metadata": {},
   "source": [
    "Importando a base de dados"
   ]
  },
  {
   "cell_type": "code",
   "execution_count": 5,
   "metadata": {},
   "outputs": [],
   "source": [
    "import pandas as pd\n",
    "\n",
    "df_casos = pd.read_csv('dataset/casos_coronavirus_2020_12_02.csv', encoding='utf-8',\n",
    "                       sep=';', thousands='.', decimal=',',engine='python',error_bad_lines=False)"
   ]
  },
  {
   "cell_type": "markdown",
   "metadata": {},
   "source": [
    "Verificando as primeiras linhas do aqrquivo"
   ]
  },
  {
   "cell_type": "code",
   "execution_count": 6,
   "metadata": {},
   "outputs": [
    {
     "data": {
      "text/html": [
       "<div>\n",
       "<style scoped>\n",
       "    .dataframe tbody tr th:only-of-type {\n",
       "        vertical-align: middle;\n",
       "    }\n",
       "\n",
       "    .dataframe tbody tr th {\n",
       "        vertical-align: top;\n",
       "    }\n",
       "\n",
       "    .dataframe thead th {\n",
       "        text-align: right;\n",
       "    }\n",
       "</style>\n",
       "<table border=\"1\" class=\"dataframe\">\n",
       "  <thead>\n",
       "    <tr style=\"text-align: right;\">\n",
       "      <th></th>\n",
       "      <th>identificadorCaso</th>\n",
       "      <th>idRedcap</th>\n",
       "      <th>idEsus</th>\n",
       "      <th>idSivep</th>\n",
       "      <th>classificacaoEstadoRedcap</th>\n",
       "      <th>classificacaoEstadoEsus</th>\n",
       "      <th>classificacaoFinalEsus</th>\n",
       "      <th>evolucaoCasoEsus</th>\n",
       "      <th>cboEsus</th>\n",
       "      <th>profissionalSaudeEsus</th>\n",
       "      <th>...</th>\n",
       "      <th>municipioNotificacaoEsus</th>\n",
       "      <th>tipoObitoMaterno</th>\n",
       "      <th>classificacaoFinalCasoSivep</th>\n",
       "      <th>gestante</th>\n",
       "      <th>tipoTesteEsus</th>\n",
       "      <th>obitoConfirmado</th>\n",
       "      <th>dataObito</th>\n",
       "      <th>classificacaoObito</th>\n",
       "      <th>localObito</th>\n",
       "      <th>tipoLocalObito</th>\n",
       "    </tr>\n",
       "  </thead>\n",
       "  <tbody>\n",
       "    <tr>\n",
       "      <th>0</th>\n",
       "      <td>bbf44037c5d6fbf6bf699342c3cfeedc</td>\n",
       "      <td>NaN</td>\n",
       "      <td>NaN</td>\n",
       "      <td>NaN</td>\n",
       "      <td>NaN</td>\n",
       "      <td>NaN</td>\n",
       "      <td>NaN</td>\n",
       "      <td>NaN</td>\n",
       "      <td>NaN</td>\n",
       "      <td>NaN</td>\n",
       "      <td>...</td>\n",
       "      <td>NaN</td>\n",
       "      <td>NaN</td>\n",
       "      <td>NaN</td>\n",
       "      <td>NaN</td>\n",
       "      <td>NaN</td>\n",
       "      <td>NaN</td>\n",
       "      <td>NaN</td>\n",
       "      <td>NaN</td>\n",
       "      <td>NaN</td>\n",
       "      <td>NaN</td>\n",
       "    </tr>\n",
       "    <tr>\n",
       "      <th>1</th>\n",
       "      <td>6ce7ae3eb4bf25a5a3f0f89f645cff5c</td>\n",
       "      <td>NaN</td>\n",
       "      <td>NaN</td>\n",
       "      <td>NaN</td>\n",
       "      <td>NaN</td>\n",
       "      <td>NaN</td>\n",
       "      <td>NaN</td>\n",
       "      <td>NaN</td>\n",
       "      <td>NaN</td>\n",
       "      <td>NaN</td>\n",
       "      <td>...</td>\n",
       "      <td>NaN</td>\n",
       "      <td>NaN</td>\n",
       "      <td>NaN</td>\n",
       "      <td>NaN</td>\n",
       "      <td>NaN</td>\n",
       "      <td>NaN</td>\n",
       "      <td>NaN</td>\n",
       "      <td>NaN</td>\n",
       "      <td>NaN</td>\n",
       "      <td>NaN</td>\n",
       "    </tr>\n",
       "    <tr>\n",
       "      <th>2</th>\n",
       "      <td>e55f0570a91fde947f945623c390fce5</td>\n",
       "      <td>NaN</td>\n",
       "      <td>NaN</td>\n",
       "      <td>NaN</td>\n",
       "      <td>NaN</td>\n",
       "      <td>NaN</td>\n",
       "      <td>NaN</td>\n",
       "      <td>NaN</td>\n",
       "      <td>NaN</td>\n",
       "      <td>NaN</td>\n",
       "      <td>...</td>\n",
       "      <td>NaN</td>\n",
       "      <td>NaN</td>\n",
       "      <td>NaN</td>\n",
       "      <td>NaN</td>\n",
       "      <td>NaN</td>\n",
       "      <td>NaN</td>\n",
       "      <td>NaN</td>\n",
       "      <td>NaN</td>\n",
       "      <td>NaN</td>\n",
       "      <td>NaN</td>\n",
       "    </tr>\n",
       "    <tr>\n",
       "      <th>3</th>\n",
       "      <td>333484dc91f8ce312185a21ba03d6d60</td>\n",
       "      <td>NaN</td>\n",
       "      <td>NaN</td>\n",
       "      <td>NaN</td>\n",
       "      <td>NaN</td>\n",
       "      <td>NaN</td>\n",
       "      <td>NaN</td>\n",
       "      <td>NaN</td>\n",
       "      <td>NaN</td>\n",
       "      <td>NaN</td>\n",
       "      <td>...</td>\n",
       "      <td>NaN</td>\n",
       "      <td>NaN</td>\n",
       "      <td>NaN</td>\n",
       "      <td>NaN</td>\n",
       "      <td>NaN</td>\n",
       "      <td>NaN</td>\n",
       "      <td>NaN</td>\n",
       "      <td>NaN</td>\n",
       "      <td>NaN</td>\n",
       "      <td>NaN</td>\n",
       "    </tr>\n",
       "    <tr>\n",
       "      <th>4</th>\n",
       "      <td>b42c630392bbac85b8eae692a4492134</td>\n",
       "      <td>NaN</td>\n",
       "      <td>NaN</td>\n",
       "      <td>NaN</td>\n",
       "      <td>NaN</td>\n",
       "      <td>NaN</td>\n",
       "      <td>NaN</td>\n",
       "      <td>NaN</td>\n",
       "      <td>NaN</td>\n",
       "      <td>NaN</td>\n",
       "      <td>...</td>\n",
       "      <td>NaN</td>\n",
       "      <td>NaN</td>\n",
       "      <td>NaN</td>\n",
       "      <td>NaN</td>\n",
       "      <td>NaN</td>\n",
       "      <td>NaN</td>\n",
       "      <td>NaN</td>\n",
       "      <td>NaN</td>\n",
       "      <td>NaN</td>\n",
       "      <td>NaN</td>\n",
       "    </tr>\n",
       "  </tbody>\n",
       "</table>\n",
       "<p>5 rows × 62 columns</p>\n",
       "</div>"
      ],
      "text/plain": [
       "                  identificadorCaso  idRedcap idEsus  idSivep  \\\n",
       "0  bbf44037c5d6fbf6bf699342c3cfeedc       NaN    NaN      NaN   \n",
       "1  6ce7ae3eb4bf25a5a3f0f89f645cff5c       NaN    NaN      NaN   \n",
       "2  e55f0570a91fde947f945623c390fce5       NaN    NaN      NaN   \n",
       "3  333484dc91f8ce312185a21ba03d6d60       NaN    NaN      NaN   \n",
       "4  b42c630392bbac85b8eae692a4492134       NaN    NaN      NaN   \n",
       "\n",
       "   classificacaoEstadoRedcap classificacaoEstadoEsus classificacaoFinalEsus  \\\n",
       "0                        NaN                     NaN                    NaN   \n",
       "1                        NaN                     NaN                    NaN   \n",
       "2                        NaN                     NaN                    NaN   \n",
       "3                        NaN                     NaN                    NaN   \n",
       "4                        NaN                     NaN                    NaN   \n",
       "\n",
       "  evolucaoCasoEsus cboEsus profissionalSaudeEsus  ...  \\\n",
       "0              NaN     NaN                   NaN  ...   \n",
       "1              NaN     NaN                   NaN  ...   \n",
       "2              NaN     NaN                   NaN  ...   \n",
       "3              NaN     NaN                   NaN  ...   \n",
       "4              NaN     NaN                   NaN  ...   \n",
       "\n",
       "  municipioNotificacaoEsus tipoObitoMaterno  classificacaoFinalCasoSivep  \\\n",
       "0                      NaN              NaN                          NaN   \n",
       "1                      NaN              NaN                          NaN   \n",
       "2                      NaN              NaN                          NaN   \n",
       "3                      NaN              NaN                          NaN   \n",
       "4                      NaN              NaN                          NaN   \n",
       "\n",
       "  gestante tipoTesteEsus obitoConfirmado dataObito  classificacaoObito  \\\n",
       "0      NaN           NaN             NaN       NaN                 NaN   \n",
       "1      NaN           NaN             NaN       NaN                 NaN   \n",
       "2      NaN           NaN             NaN       NaN                 NaN   \n",
       "3      NaN           NaN             NaN       NaN                 NaN   \n",
       "4      NaN           NaN             NaN       NaN                 NaN   \n",
       "\n",
       "  localObito tipoLocalObito  \n",
       "0        NaN            NaN  \n",
       "1        NaN            NaN  \n",
       "2        NaN            NaN  \n",
       "3        NaN            NaN  \n",
       "4        NaN            NaN  \n",
       "\n",
       "[5 rows x 62 columns]"
      ]
     },
     "execution_count": 6,
     "metadata": {},
     "output_type": "execute_result"
    }
   ],
   "source": [
    "df_casos.head()"
   ]
  },
  {
   "cell_type": "code",
   "execution_count": 7,
   "metadata": {},
   "outputs": [
    {
     "data": {
      "text/plain": [
       "Index(['identificadorCaso', 'idRedcap', 'idEsus', 'idSivep',\n",
       "       'classificacaoEstadoRedcap', 'classificacaoEstadoEsus',\n",
       "       'classificacaoFinalEsus', 'evolucaoCasoEsus', 'cboEsus',\n",
       "       'profissionalSaudeEsus', 'paisCaso', 'estadoCaso',\n",
       "       'codigoMunicipioCaso', 'municipioCaso', 'bairroCaso',\n",
       "       'bairroCasoGeocoder', 'sexoCaso', 'idadeCaso', 'faixaEtaria',\n",
       "       'dataNascimento', 'dataNotificacao', 'dataInicioSintomas',\n",
       "       'dataSolicitacaoExame', 'dataColetaExame', 'dataResultadoExame',\n",
       "       'resultadoFinalExame', 'laboratorioExame', 'classificacaoEstadoSivep',\n",
       "       'dataInternacaoSivep', 'dataEntradaUTISivep', 'dataSaidaUTISivep',\n",
       "       'evolucaoCasoSivep', 'dataEvolucaoCasoSivep',\n",
       "       'comorbidadePuerperaSivep', 'comorbidadeCardiovascularSivep',\n",
       "       'comorbidadeHematologiaSivep', 'comorbidadeSindromeDownSivep',\n",
       "       'comorbidadeHepaticaSivep', 'comorbidadeAsmaSivep',\n",
       "       'comorbidadeDiabetesSivep', 'comorbidadeNeurologiaSivep',\n",
       "       'comorbidadePneumopatiaSivep', 'comorbidadeImunodeficienciaSivep',\n",
       "       'comorbidadeRenalSivep', 'comorbidadeObesidadeSivep', 'comorbidadeHiv',\n",
       "       'comorbidadeNeoplasias', 'tipoTesteExame', 'requisicaoGal', 'racaCor',\n",
       "       'dataNotificacaoObito', 'cnesNotificacaoEsus',\n",
       "       'municipioNotificacaoEsus', 'tipoObitoMaterno',\n",
       "       'classificacaoFinalCasoSivep', 'gestante', 'tipoTesteEsus',\n",
       "       'obitoConfirmado', 'dataObito', 'classificacaoObito', 'localObito',\n",
       "       'tipoLocalObito'],\n",
       "      dtype='object')"
      ]
     },
     "execution_count": 7,
     "metadata": {},
     "output_type": "execute_result"
    }
   ],
   "source": [
    "df_casos.columns"
   ]
  },
  {
   "cell_type": "markdown",
   "metadata": {},
   "source": [
    "A baixo verificamos que muitos registros não tem data de inicio dos sintomas. \n",
    "\n",
    "Podemos imputar esses dados pegando a data dacoleta ou calculando apartir do resultado de acordo com o tipo de exame do exame.\n",
    "\n",
    "data do resultado positivo - (8 dias para TR) ou (4 dias para RTPCR)"
   ]
  },
  {
   "cell_type": "code",
   "execution_count": 15,
   "metadata": {},
   "outputs": [
    {
     "data": {
      "text/plain": [
       "NaT           448457\n",
       "2020-06-01      9522\n",
       "2020-07-01      8978\n",
       "2020-06-10      8834\n",
       "2020-06-15      8181\n",
       "               ...  \n",
       "2020-01-16         3\n",
       "2020-01-11         3\n",
       "2020-01-29         3\n",
       "2020-01-31         2\n",
       "2020-01-17         1\n",
       "Name: dataInicioSintomas, Length: 337, dtype: int64"
      ]
     },
     "execution_count": 15,
     "metadata": {},
     "output_type": "execute_result"
    }
   ],
   "source": [
    "df_casos['dataInicioSintomas'].value_counts()"
   ]
  },
  {
   "cell_type": "markdown",
   "metadata": {},
   "source": [
    "Esse é um dataset muito rico, podemos fazer diversas analises.\n",
    "\n",
    "Vamos primeiro plotar a curva epidemiológica que é o número de casos com resultadoFinalExame **Positivo** por dataInicioSintomas."
   ]
  },
  {
   "cell_type": "code",
   "execution_count": 9,
   "metadata": {},
   "outputs": [],
   "source": [
    "df_casos_positovos = df_casos[(df_casos[\"resultadoFinalExame\"] == 'Positivo')]"
   ]
  },
  {
   "cell_type": "markdown",
   "metadata": {},
   "source": [
    "Verificamos a baixo que apesar dos dados serem do estado do Ceará temos casos que residem em outros estados."
   ]
  },
  {
   "cell_type": "code",
   "execution_count": 10,
   "metadata": {},
   "outputs": [
    {
     "data": {
      "text/plain": [
       "array(['CE', 'RIO GRANDE DO SUL', nan, 'RIO DE JANEIRO', 'SP',\n",
       "       'SANTA CATARINA', 'PI', 'BAHIA', 'PARANÁ', 'SÃO PAULO',\n",
       "       'RIO GRANDE DO NORTE', 'PARA', 'PIAUI', 'PARAÍBA', 'PARAIBA',\n",
       "       'MINAS GERAIS', 'AMAZONAS', 'PIAUÍ', 'RJ', 'PARANA', 'PERNAMBUCO',\n",
       "       'RORAIMA', 'AMAPÁ', 'MATO GROSSO', 'SERGIPE', 'ALAGOAS',\n",
       "       'SAO PAULO', 'PARÁ', 'DISTRITO FEDERAL', 'MARANHÃO', 'AMAPA',\n",
       "       'TOCANTINS', 'GOIÁS', 'RONDONIA', 'RONDÔNIA', 'MATO GROSSO DO SUL',\n",
       "       'MA', 'MARANHAO', 'ESPÍRITO SANTO', 'ACRE', 'GOIAS', 'MG', 'RN',\n",
       "       'ESPIRITO SANTO', 'PE', 'PB', 'AL', 'PA'], dtype=object)"
      ]
     },
     "execution_count": 10,
     "metadata": {},
     "output_type": "execute_result"
    }
   ],
   "source": [
    "df_casos_positovos['estadoCaso'].unique()"
   ]
  },
  {
   "cell_type": "markdown",
   "metadata": {},
   "source": [
    "Nós vamos considerar apenas os residentes no ceará. **Porque...** "
   ]
  },
  {
   "cell_type": "code",
   "execution_count": 11,
   "metadata": {},
   "outputs": [
    {
     "data": {
      "text/plain": [
       "CE                     374904\n",
       "SP                        316\n",
       "BAHIA                     245\n",
       "RIO GRANDE DO NORTE       241\n",
       "PERNAMBUCO                186\n",
       "Name: estadoCaso, dtype: int64"
      ]
     },
     "execution_count": 11,
     "metadata": {},
     "output_type": "execute_result"
    }
   ],
   "source": [
    "df_casos_positovos['estadoCaso'].value_counts().head()"
   ]
  },
  {
   "cell_type": "code",
   "execution_count": 12,
   "metadata": {},
   "outputs": [],
   "source": [
    "df_casos_positovos = df_casos_positovos[(df_casos_positovos[\"estadoCaso\"] == 'CE')]"
   ]
  },
  {
   "cell_type": "code",
   "execution_count": 13,
   "metadata": {},
   "outputs": [
    {
     "data": {
      "text/plain": [
       "<matplotlib.axes._subplots.AxesSubplot at 0x1aaa373c248>"
      ]
     },
     "execution_count": 13,
     "metadata": {},
     "output_type": "execute_result"
    },
    {
     "data": {
      "image/png": "[encoded data removed]",
      "text/plain": [
       "<Figure size 1440x432 with 1 Axes>"
      ]
     },
     "metadata": {},
     "output_type": "display_data"
    }
   ],
   "source": [
    "ts = df_casos.groupby(['dataInicioSintomas']).dataInicioSintomas.count()\n",
    "ts.plot(figsize=(20,6), title='Casos por data de Inicio de sintomas')"
   ]
  },
  {
   "cell_type": "code",
   "execution_count": 14,
   "metadata": {},
   "outputs": [
    {
     "data": {
      "text/plain": [
       "<matplotlib.axes._subplots.AxesSubplot at 0x1aaa37749c8>"
      ]
     },
     "execution_count": 14,
     "metadata": {},
     "output_type": "execute_result"
    },
    {
     "data": {
      "image/png": "[encoded data removed]",
      "text/plain": [
       "<Figure size 1440x432 with 1 Axes>"
      ]
     },
     "metadata": {},
     "output_type": "display_data"
    }
   ],
   "source": [
    "group = df_casos_positovos.groupby(['dataInicioSintomas'])['dataInicioSintomas'].count()\n",
    "group.plot(figsize=(20,6), title='Casos Positivos por data de Inicio de sintomas')"
   ]
  },
  {
   "cell_type": "code",
   "execution_count": null,
   "metadata": {},
   "outputs": [],
   "source": []
  }
 ],
 "metadata": {
  "colab": {
   "name": "Projeto Módulo 01.ipynb",
   "provenance": []
  },
  "kernelspec": {
   "display_name": "Python 3",
   "language": "python",
   "name": "python3"
  },
  "language_info": {
   "codemirror_mode": {
    "name": "ipython",
    "version": 3
   },
   "file_extension": ".py",
   "mimetype": "text/x-python",
   "name": "python",
   "nbconvert_exporter": "python",
   "pygments_lexer": "ipython3",
   "version": "3.7.6"
  }
 },
 "nbformat": 4,
 "nbformat_minor": 1
}
